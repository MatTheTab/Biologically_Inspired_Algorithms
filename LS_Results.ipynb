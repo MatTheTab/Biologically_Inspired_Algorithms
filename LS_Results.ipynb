{
 "cells": [
  {
   "cell_type": "markdown",
   "metadata": {},
   "source": [
    "## Imports"
   ]
  },
  {
   "cell_type": "code",
   "execution_count": 36,
   "metadata": {},
   "outputs": [],
   "source": [
    "import re\n",
    "import os\n",
    "\n",
    "import numpy as np\n",
    "import pandas as pd\n",
    "\n",
    "import seaborn as sns\n",
    "import matplotlib.pyplot as plt"
   ]
  },
  {
   "cell_type": "markdown",
   "metadata": {},
   "source": [
    "## Utils"
   ]
  },
  {
   "cell_type": "code",
   "execution_count": 37,
   "metadata": {},
   "outputs": [],
   "source": [
    "def parse_performance_data(text):\n",
    "    pattern = re.compile(\n",
    "        r\"Algorithm:\\s*(?P<Algorithm>\\S+)\\s*\"\n",
    "        r\"Instance:\\s*(?P<Instance>\\S+)\\s*\"\n",
    "        r\"Initial Score:\\s*(?P<Initial_Score>\\d+)\\s*\"\n",
    "        r\"Score:\\s*(?P<Score>\\d+)\\s*\"\n",
    "        r\"Number\\s*of\\s*Evaluations:\\s*(?P<Number_of_Evaluations>\\d+)\\s*\"\n",
    "        r\"Number\\s*of\\s*Performed\\s*Moves:\\s*(?P<Number_of_Performed_Moves>\\d+)\\s*\"\n",
    "        r\"Number\\s*of\\s*Best\\s*Solution\\s*Updates:\\s*(?P<Number_of_Best_Solution_Updates>\\d+)\\s*\"\n",
    "        r\"Solution:\\s*(?P<Solution>[\\d\\s]+)\\s*\"\n",
    "        r\"Optimal\\s*Score:\\s*(?P<Optimal_Score>\\d+)\\s*\"\n",
    "        r\"Optimal\\s*Solution:\\s*(?P<Optimal_Solution>[\\d\\s]+)\"\n",
    "    )\n",
    "    \n",
    "    rows = []\n",
    "    for match in pattern.finditer(text):\n",
    "        row = match.groupdict()\n",
    "        rows.append(row)\n",
    "    \n",
    "    df = pd.DataFrame(rows)\n",
    "    \n",
    "    numerical_cols = ['Initial_Score', 'Score', 'Number_of_Evaluations', 'Number_of_Performed_Moves', 'Number_of_Best_Solution_Updates', 'Optimal_Score']\n",
    "    df[numerical_cols] = df[numerical_cols].apply(pd.to_numeric)\n",
    "    \n",
    "    return df\n",
    "\n",
    "def parse_runtime_data(text):\n",
    "    pattern = re.compile(\n",
    "        r\"Algorithm:\\s*(?P<Algorithm>\\S+)\\s*\"\n",
    "        r\"Instance:\\s*(?P<Instance>\\S+)\\s*\"\n",
    "        r\"Runtime:\\s*(?P<Runtime>\\S+)\\s*\"\n",
    "    )\n",
    "    \n",
    "    rows = []\n",
    "    for match in pattern.finditer(text):\n",
    "        row = match.groupdict()\n",
    "        rows.append(row)\n",
    "    \n",
    "    df = pd.DataFrame(rows)\n",
    "    \n",
    "    numerical_cols = ['Runtime']\n",
    "    df[numerical_cols] = df[numerical_cols].apply(pd.to_numeric)\n",
    "    \n",
    "    return df"
   ]
  },
  {
   "cell_type": "markdown",
   "metadata": {},
   "source": [
    "## Read Data"
   ]
  },
  {
   "cell_type": "code",
   "execution_count": 38,
   "metadata": {},
   "outputs": [],
   "source": [
    "with open('performance_results.txt', 'r') as file:\n",
    "    data = file.read()\n",
    "\n",
    "df_performance = parse_performance_data(data)"
   ]
  },
  {
   "cell_type": "code",
   "execution_count": 39,
   "metadata": {},
   "outputs": [
    {
     "data": {
      "application/vnd.microsoft.datawrangler.viewer.v0+json": {
       "columns": [
        {
         "name": "index",
         "rawType": "int64",
         "type": "integer"
        },
        {
         "name": "Algorithm",
         "rawType": "object",
         "type": "string"
        },
        {
         "name": "Instance",
         "rawType": "object",
         "type": "string"
        },
        {
         "name": "Initial_Score",
         "rawType": "int64",
         "type": "integer"
        },
        {
         "name": "Score",
         "rawType": "int64",
         "type": "integer"
        },
        {
         "name": "Number_of_Evaluations",
         "rawType": "int64",
         "type": "integer"
        },
        {
         "name": "Number_of_Performed_Moves",
         "rawType": "int64",
         "type": "integer"
        },
        {
         "name": "Number_of_Best_Solution_Updates",
         "rawType": "int64",
         "type": "integer"
        },
        {
         "name": "Solution",
         "rawType": "object",
         "type": "string"
        },
        {
         "name": "Optimal_Score",
         "rawType": "int64",
         "type": "integer"
        },
        {
         "name": "Optimal_Solution",
         "rawType": "object",
         "type": "string"
        }
       ],
       "conversionMethod": "pd.DataFrame",
       "ref": "826886af-0ece-4c67-8857-224035ee15bf",
       "rows": [
        [
         "4795",
         "rsteepestLS",
         "bur26h",
         "7827571",
         "7100009",
         "8775",
         "26",
         "26",
         "21 15 13 2 5 7 24 14 0 20 19 3 17 6 25 9 18 8 4 22 10 11 12 1 16 23 \t",
         "7098658",
         "11 2 13 12 6 10 25 8 1 21 4 20 7 18 14 15 9 19 5 16 22 3 23 26 24 17 \n"
        ],
        [
         "4796",
         "rsteepestLS",
         "bur26h",
         "7881818",
         "7142497",
         "8775",
         "26",
         "26",
         "5 16 14 25 20 10 2 11 12 13 6 4 8 18 7 22 3 17 19 1 0 24 9 23 21 15 \t",
         "7098658",
         "11 2 13 12 6 10 25 8 1 21 4 20 7 18 14 15 9 19 5 16 22 3 23 26 24 17 \n"
        ],
        [
         "4797",
         "rsteepestLS",
         "bur26h",
         "7938698",
         "7121974",
         "5850",
         "17",
         "17",
         "25 13 22 10 5 16 23 0 14 20 18 17 19 3 1 2 6 4 8 7 11 12 21 15 9 24 \t",
         "7098658",
         "11 2 13 12 6 10 25 8 1 21 4 20 7 18 14 15 9 19 5 16 22 3 23 26 24 17 \n"
        ],
        [
         "4798",
         "rsteepestLS",
         "bur26h",
         "8092892",
         "7147232",
         "5850",
         "17",
         "17",
         "5 25 24 16 23 22 21 13 10 2 6 18 4 8 0 11 19 17 3 1 7 20 14 9 12 15 \t",
         "7098658",
         "11 2 13 12 6 10 25 8 1 21 4 20 7 18 14 15 9 19 5 16 22 3 23 26 24 17 \n"
        ],
        [
         "4799",
         "rsteepestLS",
         "bur26h",
         "7609082",
         "7146811",
         "8450",
         "25",
         "25",
         "16 5 14 7 6 10 2 12 11 13 4 0 8 18 1 25 3 19 17 23 20 24 22 9 15 21 \t",
         "7098658",
         "11 2 13 12 6 10 25 8 1 21 4 20 7 18 14 15 9 19 5 16 22 3 23 26 24 17 \n"
        ]
       ],
       "shape": {
        "columns": 10,
        "rows": 5
       }
      },
      "text/html": [
       "<div>\n",
       "<style scoped>\n",
       "    .dataframe tbody tr th:only-of-type {\n",
       "        vertical-align: middle;\n",
       "    }\n",
       "\n",
       "    .dataframe tbody tr th {\n",
       "        vertical-align: top;\n",
       "    }\n",
       "\n",
       "    .dataframe thead th {\n",
       "        text-align: right;\n",
       "    }\n",
       "</style>\n",
       "<table border=\"1\" class=\"dataframe\">\n",
       "  <thead>\n",
       "    <tr style=\"text-align: right;\">\n",
       "      <th></th>\n",
       "      <th>Algorithm</th>\n",
       "      <th>Instance</th>\n",
       "      <th>Initial_Score</th>\n",
       "      <th>Score</th>\n",
       "      <th>Number_of_Evaluations</th>\n",
       "      <th>Number_of_Performed_Moves</th>\n",
       "      <th>Number_of_Best_Solution_Updates</th>\n",
       "      <th>Solution</th>\n",
       "      <th>Optimal_Score</th>\n",
       "      <th>Optimal_Solution</th>\n",
       "    </tr>\n",
       "  </thead>\n",
       "  <tbody>\n",
       "    <tr>\n",
       "      <th>4795</th>\n",
       "      <td>rsteepestLS</td>\n",
       "      <td>bur26h</td>\n",
       "      <td>7827571</td>\n",
       "      <td>7100009</td>\n",
       "      <td>8775</td>\n",
       "      <td>26</td>\n",
       "      <td>26</td>\n",
       "      <td>21 15 13 2 5 7 24 14 0 20 19 3 17 6 25 9 18 8 ...</td>\n",
       "      <td>7098658</td>\n",
       "      <td>11 2 13 12 6 10 25 8 1 21 4 20 7 18 14 15 9 19...</td>\n",
       "    </tr>\n",
       "    <tr>\n",
       "      <th>4796</th>\n",
       "      <td>rsteepestLS</td>\n",
       "      <td>bur26h</td>\n",
       "      <td>7881818</td>\n",
       "      <td>7142497</td>\n",
       "      <td>8775</td>\n",
       "      <td>26</td>\n",
       "      <td>26</td>\n",
       "      <td>5 16 14 25 20 10 2 11 12 13 6 4 8 18 7 22 3 17...</td>\n",
       "      <td>7098658</td>\n",
       "      <td>11 2 13 12 6 10 25 8 1 21 4 20 7 18 14 15 9 19...</td>\n",
       "    </tr>\n",
       "    <tr>\n",
       "      <th>4797</th>\n",
       "      <td>rsteepestLS</td>\n",
       "      <td>bur26h</td>\n",
       "      <td>7938698</td>\n",
       "      <td>7121974</td>\n",
       "      <td>5850</td>\n",
       "      <td>17</td>\n",
       "      <td>17</td>\n",
       "      <td>25 13 22 10 5 16 23 0 14 20 18 17 19 3 1 2 6 4...</td>\n",
       "      <td>7098658</td>\n",
       "      <td>11 2 13 12 6 10 25 8 1 21 4 20 7 18 14 15 9 19...</td>\n",
       "    </tr>\n",
       "    <tr>\n",
       "      <th>4798</th>\n",
       "      <td>rsteepestLS</td>\n",
       "      <td>bur26h</td>\n",
       "      <td>8092892</td>\n",
       "      <td>7147232</td>\n",
       "      <td>5850</td>\n",
       "      <td>17</td>\n",
       "      <td>17</td>\n",
       "      <td>5 25 24 16 23 22 21 13 10 2 6 18 4 8 0 11 19 1...</td>\n",
       "      <td>7098658</td>\n",
       "      <td>11 2 13 12 6 10 25 8 1 21 4 20 7 18 14 15 9 19...</td>\n",
       "    </tr>\n",
       "    <tr>\n",
       "      <th>4799</th>\n",
       "      <td>rsteepestLS</td>\n",
       "      <td>bur26h</td>\n",
       "      <td>7609082</td>\n",
       "      <td>7146811</td>\n",
       "      <td>8450</td>\n",
       "      <td>25</td>\n",
       "      <td>25</td>\n",
       "      <td>16 5 14 7 6 10 2 12 11 13 4 0 8 18 1 25 3 19 1...</td>\n",
       "      <td>7098658</td>\n",
       "      <td>11 2 13 12 6 10 25 8 1 21 4 20 7 18 14 15 9 19...</td>\n",
       "    </tr>\n",
       "  </tbody>\n",
       "</table>\n",
       "</div>"
      ],
      "text/plain": [
       "        Algorithm Instance  Initial_Score    Score  Number_of_Evaluations  \\\n",
       "4795  rsteepestLS   bur26h        7827571  7100009                   8775   \n",
       "4796  rsteepestLS   bur26h        7881818  7142497                   8775   \n",
       "4797  rsteepestLS   bur26h        7938698  7121974                   5850   \n",
       "4798  rsteepestLS   bur26h        8092892  7147232                   5850   \n",
       "4799  rsteepestLS   bur26h        7609082  7146811                   8450   \n",
       "\n",
       "      Number_of_Performed_Moves  Number_of_Best_Solution_Updates  \\\n",
       "4795                         26                               26   \n",
       "4796                         26                               26   \n",
       "4797                         17                               17   \n",
       "4798                         17                               17   \n",
       "4799                         25                               25   \n",
       "\n",
       "                                               Solution  Optimal_Score  \\\n",
       "4795  21 15 13 2 5 7 24 14 0 20 19 3 17 6 25 9 18 8 ...        7098658   \n",
       "4796  5 16 14 25 20 10 2 11 12 13 6 4 8 18 7 22 3 17...        7098658   \n",
       "4797  25 13 22 10 5 16 23 0 14 20 18 17 19 3 1 2 6 4...        7098658   \n",
       "4798  5 25 24 16 23 22 21 13 10 2 6 18 4 8 0 11 19 1...        7098658   \n",
       "4799  16 5 14 7 6 10 2 12 11 13 4 0 8 18 1 25 3 19 1...        7098658   \n",
       "\n",
       "                                       Optimal_Solution  \n",
       "4795  11 2 13 12 6 10 25 8 1 21 4 20 7 18 14 15 9 19...  \n",
       "4796  11 2 13 12 6 10 25 8 1 21 4 20 7 18 14 15 9 19...  \n",
       "4797  11 2 13 12 6 10 25 8 1 21 4 20 7 18 14 15 9 19...  \n",
       "4798  11 2 13 12 6 10 25 8 1 21 4 20 7 18 14 15 9 19...  \n",
       "4799  11 2 13 12 6 10 25 8 1 21 4 20 7 18 14 15 9 19...  "
      ]
     },
     "execution_count": 39,
     "metadata": {},
     "output_type": "execute_result"
    }
   ],
   "source": [
    "df_performance.tail()"
   ]
  },
  {
   "cell_type": "code",
   "execution_count": 40,
   "metadata": {},
   "outputs": [],
   "source": [
    "with open('runtime_results.txt', 'r') as file:\n",
    "    data = file.read()\n",
    "\n",
    "df_runtime = parse_runtime_data(data)"
   ]
  },
  {
   "cell_type": "code",
   "execution_count": 41,
   "metadata": {},
   "outputs": [
    {
     "data": {
      "application/vnd.microsoft.datawrangler.viewer.v0+json": {
       "columns": [
        {
         "name": "index",
         "rawType": "int64",
         "type": "integer"
        },
        {
         "name": "Algorithm",
         "rawType": "object",
         "type": "string"
        },
        {
         "name": "Instance",
         "rawType": "object",
         "type": "string"
        },
        {
         "name": "Runtime",
         "rawType": "float64",
         "type": "float"
        }
       ],
       "conversionMethod": "pd.DataFrame",
       "ref": "37d326a0-c68a-4914-be34-00873d8c85f3",
       "rows": [
        [
         "0",
         "heuristic",
         "bur26a",
         "6890.0"
        ],
        [
         "1",
         "random",
         "bur26a",
         "858.0"
        ],
        [
         "2",
         "antiheuristic",
         "bur26a",
         "8290.0"
        ],
        [
         "3",
         "greedyLS",
         "bur26a",
         "4191900.0"
        ],
        [
         "4",
         "steepestLS",
         "bur26a",
         "2520280.0"
        ]
       ],
       "shape": {
        "columns": 3,
        "rows": 5
       }
      },
      "text/html": [
       "<div>\n",
       "<style scoped>\n",
       "    .dataframe tbody tr th:only-of-type {\n",
       "        vertical-align: middle;\n",
       "    }\n",
       "\n",
       "    .dataframe tbody tr th {\n",
       "        vertical-align: top;\n",
       "    }\n",
       "\n",
       "    .dataframe thead th {\n",
       "        text-align: right;\n",
       "    }\n",
       "</style>\n",
       "<table border=\"1\" class=\"dataframe\">\n",
       "  <thead>\n",
       "    <tr style=\"text-align: right;\">\n",
       "      <th></th>\n",
       "      <th>Algorithm</th>\n",
       "      <th>Instance</th>\n",
       "      <th>Runtime</th>\n",
       "    </tr>\n",
       "  </thead>\n",
       "  <tbody>\n",
       "    <tr>\n",
       "      <th>0</th>\n",
       "      <td>heuristic</td>\n",
       "      <td>bur26a</td>\n",
       "      <td>6890.0</td>\n",
       "    </tr>\n",
       "    <tr>\n",
       "      <th>1</th>\n",
       "      <td>random</td>\n",
       "      <td>bur26a</td>\n",
       "      <td>858.0</td>\n",
       "    </tr>\n",
       "    <tr>\n",
       "      <th>2</th>\n",
       "      <td>antiheuristic</td>\n",
       "      <td>bur26a</td>\n",
       "      <td>8290.0</td>\n",
       "    </tr>\n",
       "    <tr>\n",
       "      <th>3</th>\n",
       "      <td>greedyLS</td>\n",
       "      <td>bur26a</td>\n",
       "      <td>4191900.0</td>\n",
       "    </tr>\n",
       "    <tr>\n",
       "      <th>4</th>\n",
       "      <td>steepestLS</td>\n",
       "      <td>bur26a</td>\n",
       "      <td>2520280.0</td>\n",
       "    </tr>\n",
       "  </tbody>\n",
       "</table>\n",
       "</div>"
      ],
      "text/plain": [
       "       Algorithm Instance    Runtime\n",
       "0      heuristic   bur26a     6890.0\n",
       "1         random   bur26a      858.0\n",
       "2  antiheuristic   bur26a     8290.0\n",
       "3       greedyLS   bur26a  4191900.0\n",
       "4     steepestLS   bur26a  2520280.0"
      ]
     },
     "execution_count": 41,
     "metadata": {},
     "output_type": "execute_result"
    }
   ],
   "source": [
    "df_runtime.head()"
   ]
  },
  {
   "cell_type": "code",
   "execution_count": 42,
   "metadata": {},
   "outputs": [
    {
     "data": {
      "text/plain": [
       "3410995.0"
      ]
     },
     "execution_count": 42,
     "metadata": {},
     "output_type": "execute_result"
    }
   ],
   "source": [
    "df_runtime[df_runtime.Algorithm == \"greedyLS\"].Runtime.mean()"
   ]
  },
  {
   "cell_type": "markdown",
   "metadata": {},
   "source": [
    "## Analysis"
   ]
  },
  {
   "cell_type": "markdown",
   "metadata": {},
   "source": [
    "### 8 Selected instances:\n",
    "\n",
    "R.E. Burkard and J. Offermann [BuOf:77]\n",
    "The data of the first matrix correspond to the typing-time of an average stenotypist, while the second matrix describes the frequency of pairs of letters in different languages taken over 100,000 pairs for examples a-f and over 187,778 pairs for examples g-h. (Note that the solutions are not scaled for a flow matrix of 100,000 pairs anymore.) One also distinguishes between two types of typewriter keyboards. The instances are asymmetric.\n",
    "\n",
    "Selected due to the fact that all instances are of the same size.<br>\n",
    "***Bur26a, Bur26b, Bur26c, Bur26d, Bur26e, Bur26f, Bur26g, Bur26h***\n",
    "\n",
    "### Neighborhood used: pair swap\n",
    "### Neighborhood size: n(n-1)/2 ? \n",
    "\n",
    "### Comparison of the performance of 5 algorithms and implemented types of neighborhoods on all problem instances – plots\n",
    "\n",
    "- Running time (average)\n",
    "- Quality = distance from the optimum (according to what measure?), the average and the best case (optionally: also the worst case).\n",
    "- Efficiency of algorithms (average) – i.e., quality over time (suggest a good measure and justify your choice)\n",
    "- G,S: average number of algorithm steps (step = changing the current solution)\n",
    "- G,S,RS,RW: average number of evaluated (i.e., visited – full or partial evaluation) solutions\n",
    "\n",
    "For the averages, we assess the stability of the results (standard deviations should always be shown along with the averages)."
   ]
  },
  {
   "cell_type": "code",
   "execution_count": 43,
   "metadata": {},
   "outputs": [],
   "source": [
    "df_performance[\"Solution_Quality\"] = (df_performance[\"Score\"] - df_performance[\"Optimal_Score\"]) / df_performance[\"Optimal_Score\"]"
   ]
  }
 ],
 "metadata": {
  "kernelspec": {
   "display_name": "Python 3",
   "language": "python",
   "name": "python3"
  },
  "language_info": {
   "codemirror_mode": {
    "name": "ipython",
    "version": 3
   },
   "file_extension": ".py",
   "mimetype": "text/x-python",
   "name": "python",
   "nbconvert_exporter": "python",
   "pygments_lexer": "ipython3",
   "version": "3.12.1"
  }
 },
 "nbformat": 4,
 "nbformat_minor": 2
}
