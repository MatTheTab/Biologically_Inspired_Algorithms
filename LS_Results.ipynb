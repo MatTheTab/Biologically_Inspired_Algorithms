{
 "cells": [
  {
   "cell_type": "markdown",
   "metadata": {},
   "source": [
    "## Imports"
   ]
  },
  {
   "cell_type": "code",
   "execution_count": 3,
   "metadata": {},
   "outputs": [],
   "source": [
    "import re\n",
    "import os\n",
    "\n",
    "import numpy as np\n",
    "import pandas as pd\n",
    "\n",
    "import matplotlib.pyplot as plt"
   ]
  },
  {
   "cell_type": "markdown",
   "metadata": {},
   "source": [
    "## Utils"
   ]
  },
  {
   "cell_type": "code",
   "execution_count": 12,
   "metadata": {},
   "outputs": [],
   "source": [
    "def parse_performance_data(text):\n",
    "    pattern = re.compile(\n",
    "        r\"Algorithm:\\s*(?P<Algorithm>\\S+)\\s*\"\n",
    "        r\"Instance:\\s*(?P<Instance>\\S+)\\s*\"\n",
    "        r\"Initial Score:\\s*(?P<Initial_Score>\\d+)\\s*\"\n",
    "        r\"Score:\\s*(?P<Score>\\d+)\\s*\"\n",
    "        r\"Number\\s*of\\s*Evaluations:\\s*(?P<Number_of_Evaluations>\\d+)\\s*\"\n",
    "        r\"Number\\s*of\\s*Performed\\s*Moves:\\s*(?P<Number_of_Performed_Moves>\\d+)\\s*\"\n",
    "        r\"Number\\s*of\\s*Best\\s*Solution\\s*Updates:\\s*(?P<Number_of_Best_Solution_Updates>\\d+)\\s*\"\n",
    "        r\"Solution:\\s*(?P<Solution>[\\d\\s]+)\\s*\"\n",
    "        r\"Optimal\\s*Score:\\s*(?P<Optimal_Score>\\d+)\\s*\"\n",
    "        r\"Optimal\\s*Solution:\\s*(?P<Optimal_Solution>[\\d\\s]+)\"\n",
    "    )\n",
    "    \n",
    "    rows = []\n",
    "    for match in pattern.finditer(text):\n",
    "        row = match.groupdict()\n",
    "        rows.append(row)\n",
    "    \n",
    "    df = pd.DataFrame(rows)\n",
    "    \n",
    "    numerical_cols = ['Initial_Score', 'Score', 'Number_of_Evaluations', 'Number_of_Performed_Moves', 'Number_of_Best_Solution_Updates', 'Optimal_Score']\n",
    "    df[numerical_cols] = df[numerical_cols].apply(pd.to_numeric)\n",
    "    \n",
    "    return df\n",
    "\n",
    "def parse_runtime_data(text):\n",
    "    pattern = re.compile(\n",
    "        r\"Algorithm:\\s*(?P<Algorithm>\\S+)\\s*\"\n",
    "        r\"Instance:\\s*(?P<Instance>\\S+)\\s*\"\n",
    "        r\"Runtime:\\s*(?P<Runtime>\\S+)\\s*\"\n",
    "    )\n",
    "    \n",
    "    rows = []\n",
    "    for match in pattern.finditer(text):\n",
    "        row = match.groupdict()\n",
    "        rows.append(row)\n",
    "    \n",
    "    df = pd.DataFrame(rows)\n",
    "    \n",
    "    numerical_cols = ['Runtime']\n",
    "    df[numerical_cols] = df[numerical_cols].apply(pd.to_numeric)\n",
    "    \n",
    "    return df"
   ]
  },
  {
   "cell_type": "markdown",
   "metadata": {},
   "source": [
    "## Read Data"
   ]
  },
  {
   "cell_type": "code",
   "execution_count": 6,
   "metadata": {},
   "outputs": [],
   "source": [
    "with open('performance_results.txt', 'r') as file:\n",
    "    data = file.read()\n",
    "\n",
    "df = parse_performance_data(data)"
   ]
  },
  {
   "cell_type": "code",
   "execution_count": 11,
   "metadata": {},
   "outputs": [
    {
     "data": {
      "application/vnd.microsoft.datawrangler.viewer.v0+json": {
       "columns": [
        {
         "name": "index",
         "rawType": "int64",
         "type": "integer"
        },
        {
         "name": "Algorithm",
         "rawType": "object",
         "type": "string"
        },
        {
         "name": "Instance",
         "rawType": "object",
         "type": "string"
        },
        {
         "name": "Initial_Score",
         "rawType": "int64",
         "type": "integer"
        },
        {
         "name": "Score",
         "rawType": "int64",
         "type": "integer"
        },
        {
         "name": "Number_of_Evaluations",
         "rawType": "int64",
         "type": "integer"
        },
        {
         "name": "Number_of_Performed_Moves",
         "rawType": "int64",
         "type": "integer"
        },
        {
         "name": "Number_of_Best_Solution_Updates",
         "rawType": "int64",
         "type": "integer"
        },
        {
         "name": "Solution",
         "rawType": "object",
         "type": "string"
        },
        {
         "name": "Optimal_Score",
         "rawType": "int64",
         "type": "integer"
        },
        {
         "name": "Optimal_Solution",
         "rawType": "object",
         "type": "string"
        }
       ],
       "conversionMethod": "pd.DataFrame",
       "ref": "269a1b38-8cf4-405d-98d2-afe1a340b473",
       "rows": [
        [
         "10",
         "steepestLS",
         "bur26a",
         "5841774",
         "5458470",
         "7800",
         "23",
         "23",
         "8 14 10 5 7 22 3 2 11 6 20 0 18 13 1 12 19 4 17 24 16 25 23 9 21 15 \t",
         "5426670",
         "11 15 26 7 4 13 12 2 6 18 9 5 1 21 8 14 3 20 19 10 17 25 16 24 22 23 \n"
        ],
        [
         "11",
         "steepestLS",
         "bur26a",
         "5990530",
         "5450785",
         "5850",
         "17",
         "17",
         "12 14 2 22 25 10 6 3 1 11 17 4 0 13 5 20 8 18 19 9 16 24 23 15 7 21 \t",
         "5426670",
         "11 15 26 7 4 13 12 2 6 18 9 5 1 21 8 14 3 20 19 10 17 25 16 24 22 23 \n"
        ],
        [
         "12",
         "steepestLS",
         "bur26a",
         "5852743",
         "5439529",
         "7475",
         "22",
         "22",
         "3 10 0 14 7 22 12 5 15 1 18 8 4 20 6 13 17 11 19 25 9 16 24 23 2 21 \t",
         "5426670",
         "11 15 26 7 4 13 12 2 6 18 9 5 1 21 8 14 3 20 19 10 17 25 16 24 22 23 \n"
        ],
        [
         "13",
         "rsteepestLS",
         "bur26a",
         "5990530",
         "5450785",
         "5850",
         "17",
         "17",
         "12 14 2 22 25 10 6 3 1 11 17 4 0 13 5 20 8 18 19 9 16 24 23 15 7 21 \t",
         "5426670",
         "11 15 26 7 4 13 12 2 6 18 9 5 1 21 8 14 3 20 19 10 17 25 16 24 22 23 \n"
        ],
        [
         "14",
         "rsteepestLS",
         "bur26a",
         "5953351",
         "5440232",
         "6500",
         "19",
         "19",
         "6 10 14 3 7 22 2 12 11 20 0 8 4 18 5 1 19 13 17 23 24 16 25 9 21 15 \t",
         "5426670",
         "11 15 26 7 4 13 12 2 6 18 9 5 1 21 8 14 3 20 19 10 17 25 16 24 22 23 \n"
        ]
       ],
       "shape": {
        "columns": 10,
        "rows": 5
       }
      },
      "text/html": [
       "<div>\n",
       "<style scoped>\n",
       "    .dataframe tbody tr th:only-of-type {\n",
       "        vertical-align: middle;\n",
       "    }\n",
       "\n",
       "    .dataframe tbody tr th {\n",
       "        vertical-align: top;\n",
       "    }\n",
       "\n",
       "    .dataframe thead th {\n",
       "        text-align: right;\n",
       "    }\n",
       "</style>\n",
       "<table border=\"1\" class=\"dataframe\">\n",
       "  <thead>\n",
       "    <tr style=\"text-align: right;\">\n",
       "      <th></th>\n",
       "      <th>Algorithm</th>\n",
       "      <th>Instance</th>\n",
       "      <th>Initial_Score</th>\n",
       "      <th>Score</th>\n",
       "      <th>Number_of_Evaluations</th>\n",
       "      <th>Number_of_Performed_Moves</th>\n",
       "      <th>Number_of_Best_Solution_Updates</th>\n",
       "      <th>Solution</th>\n",
       "      <th>Optimal_Score</th>\n",
       "      <th>Optimal_Solution</th>\n",
       "    </tr>\n",
       "  </thead>\n",
       "  <tbody>\n",
       "    <tr>\n",
       "      <th>10</th>\n",
       "      <td>steepestLS</td>\n",
       "      <td>bur26a</td>\n",
       "      <td>5841774</td>\n",
       "      <td>5458470</td>\n",
       "      <td>7800</td>\n",
       "      <td>23</td>\n",
       "      <td>23</td>\n",
       "      <td>8 14 10 5 7 22 3 2 11 6 20 0 18 13 1 12 19 4 1...</td>\n",
       "      <td>5426670</td>\n",
       "      <td>11 15 26 7 4 13 12 2 6 18 9 5 1 21 8 14 3 20 1...</td>\n",
       "    </tr>\n",
       "    <tr>\n",
       "      <th>11</th>\n",
       "      <td>steepestLS</td>\n",
       "      <td>bur26a</td>\n",
       "      <td>5990530</td>\n",
       "      <td>5450785</td>\n",
       "      <td>5850</td>\n",
       "      <td>17</td>\n",
       "      <td>17</td>\n",
       "      <td>12 14 2 22 25 10 6 3 1 11 17 4 0 13 5 20 8 18 ...</td>\n",
       "      <td>5426670</td>\n",
       "      <td>11 15 26 7 4 13 12 2 6 18 9 5 1 21 8 14 3 20 1...</td>\n",
       "    </tr>\n",
       "    <tr>\n",
       "      <th>12</th>\n",
       "      <td>steepestLS</td>\n",
       "      <td>bur26a</td>\n",
       "      <td>5852743</td>\n",
       "      <td>5439529</td>\n",
       "      <td>7475</td>\n",
       "      <td>22</td>\n",
       "      <td>22</td>\n",
       "      <td>3 10 0 14 7 22 12 5 15 1 18 8 4 20 6 13 17 11 ...</td>\n",
       "      <td>5426670</td>\n",
       "      <td>11 15 26 7 4 13 12 2 6 18 9 5 1 21 8 14 3 20 1...</td>\n",
       "    </tr>\n",
       "    <tr>\n",
       "      <th>13</th>\n",
       "      <td>rsteepestLS</td>\n",
       "      <td>bur26a</td>\n",
       "      <td>5990530</td>\n",
       "      <td>5450785</td>\n",
       "      <td>5850</td>\n",
       "      <td>17</td>\n",
       "      <td>17</td>\n",
       "      <td>12 14 2 22 25 10 6 3 1 11 17 4 0 13 5 20 8 18 ...</td>\n",
       "      <td>5426670</td>\n",
       "      <td>11 15 26 7 4 13 12 2 6 18 9 5 1 21 8 14 3 20 1...</td>\n",
       "    </tr>\n",
       "    <tr>\n",
       "      <th>14</th>\n",
       "      <td>rsteepestLS</td>\n",
       "      <td>bur26a</td>\n",
       "      <td>5953351</td>\n",
       "      <td>5440232</td>\n",
       "      <td>6500</td>\n",
       "      <td>19</td>\n",
       "      <td>19</td>\n",
       "      <td>6 10 14 3 7 22 2 12 11 20 0 8 4 18 5 1 19 13 1...</td>\n",
       "      <td>5426670</td>\n",
       "      <td>11 15 26 7 4 13 12 2 6 18 9 5 1 21 8 14 3 20 1...</td>\n",
       "    </tr>\n",
       "  </tbody>\n",
       "</table>\n",
       "</div>"
      ],
      "text/plain": [
       "      Algorithm Instance  Initial_Score    Score  Number_of_Evaluations  \\\n",
       "10   steepestLS   bur26a        5841774  5458470                   7800   \n",
       "11   steepestLS   bur26a        5990530  5450785                   5850   \n",
       "12   steepestLS   bur26a        5852743  5439529                   7475   \n",
       "13  rsteepestLS   bur26a        5990530  5450785                   5850   \n",
       "14  rsteepestLS   bur26a        5953351  5440232                   6500   \n",
       "\n",
       "    Number_of_Performed_Moves  Number_of_Best_Solution_Updates  \\\n",
       "10                         23                               23   \n",
       "11                         17                               17   \n",
       "12                         22                               22   \n",
       "13                         17                               17   \n",
       "14                         19                               19   \n",
       "\n",
       "                                             Solution  Optimal_Score  \\\n",
       "10  8 14 10 5 7 22 3 2 11 6 20 0 18 13 1 12 19 4 1...        5426670   \n",
       "11  12 14 2 22 25 10 6 3 1 11 17 4 0 13 5 20 8 18 ...        5426670   \n",
       "12  3 10 0 14 7 22 12 5 15 1 18 8 4 20 6 13 17 11 ...        5426670   \n",
       "13  12 14 2 22 25 10 6 3 1 11 17 4 0 13 5 20 8 18 ...        5426670   \n",
       "14  6 10 14 3 7 22 2 12 11 20 0 8 4 18 5 1 19 13 1...        5426670   \n",
       "\n",
       "                                     Optimal_Solution  \n",
       "10  11 15 26 7 4 13 12 2 6 18 9 5 1 21 8 14 3 20 1...  \n",
       "11  11 15 26 7 4 13 12 2 6 18 9 5 1 21 8 14 3 20 1...  \n",
       "12  11 15 26 7 4 13 12 2 6 18 9 5 1 21 8 14 3 20 1...  \n",
       "13  11 15 26 7 4 13 12 2 6 18 9 5 1 21 8 14 3 20 1...  \n",
       "14  11 15 26 7 4 13 12 2 6 18 9 5 1 21 8 14 3 20 1...  "
      ]
     },
     "execution_count": 11,
     "metadata": {},
     "output_type": "execute_result"
    }
   ],
   "source": [
    "df.tail()"
   ]
  },
  {
   "cell_type": "code",
   "execution_count": 15,
   "metadata": {},
   "outputs": [],
   "source": [
    "with open('runtime_results.txt', 'r') as file:\n",
    "    data = file.read()\n",
    "\n",
    "df = parse_runtime_data(data)"
   ]
  },
  {
   "cell_type": "code",
   "execution_count": 16,
   "metadata": {},
   "outputs": [
    {
     "data": {
      "application/vnd.microsoft.datawrangler.viewer.v0+json": {
       "columns": [
        {
         "name": "index",
         "rawType": "int64",
         "type": "integer"
        },
        {
         "name": "Algorithm",
         "rawType": "object",
         "type": "string"
        },
        {
         "name": "Instance",
         "rawType": "object",
         "type": "string"
        },
        {
         "name": "Runtime",
         "rawType": "float64",
         "type": "float"
        }
       ],
       "conversionMethod": "pd.DataFrame",
       "ref": "02c408d0-70d2-49e5-8e6b-614b1ca3b1dc",
       "rows": [
        [
         "0",
         "heuristic",
         "bur26a",
         "7117.0"
        ],
        [
         "1",
         "antiheuristic",
         "bur26a",
         "7455.0"
        ],
        [
         "2",
         "random",
         "bur26a",
         "1032.0"
        ],
        [
         "3",
         "greedyLS",
         "bur26a",
         "4403190.0"
        ],
        [
         "4",
         "steepestLS",
         "bur26a",
         "2726280.0"
        ]
       ],
       "shape": {
        "columns": 3,
        "rows": 5
       }
      },
      "text/html": [
       "<div>\n",
       "<style scoped>\n",
       "    .dataframe tbody tr th:only-of-type {\n",
       "        vertical-align: middle;\n",
       "    }\n",
       "\n",
       "    .dataframe tbody tr th {\n",
       "        vertical-align: top;\n",
       "    }\n",
       "\n",
       "    .dataframe thead th {\n",
       "        text-align: right;\n",
       "    }\n",
       "</style>\n",
       "<table border=\"1\" class=\"dataframe\">\n",
       "  <thead>\n",
       "    <tr style=\"text-align: right;\">\n",
       "      <th></th>\n",
       "      <th>Algorithm</th>\n",
       "      <th>Instance</th>\n",
       "      <th>Runtime</th>\n",
       "    </tr>\n",
       "  </thead>\n",
       "  <tbody>\n",
       "    <tr>\n",
       "      <th>0</th>\n",
       "      <td>heuristic</td>\n",
       "      <td>bur26a</td>\n",
       "      <td>7117.0</td>\n",
       "    </tr>\n",
       "    <tr>\n",
       "      <th>1</th>\n",
       "      <td>antiheuristic</td>\n",
       "      <td>bur26a</td>\n",
       "      <td>7455.0</td>\n",
       "    </tr>\n",
       "    <tr>\n",
       "      <th>2</th>\n",
       "      <td>random</td>\n",
       "      <td>bur26a</td>\n",
       "      <td>1032.0</td>\n",
       "    </tr>\n",
       "    <tr>\n",
       "      <th>3</th>\n",
       "      <td>greedyLS</td>\n",
       "      <td>bur26a</td>\n",
       "      <td>4403190.0</td>\n",
       "    </tr>\n",
       "    <tr>\n",
       "      <th>4</th>\n",
       "      <td>steepestLS</td>\n",
       "      <td>bur26a</td>\n",
       "      <td>2726280.0</td>\n",
       "    </tr>\n",
       "  </tbody>\n",
       "</table>\n",
       "</div>"
      ],
      "text/plain": [
       "       Algorithm Instance    Runtime\n",
       "0      heuristic   bur26a     7117.0\n",
       "1  antiheuristic   bur26a     7455.0\n",
       "2         random   bur26a     1032.0\n",
       "3       greedyLS   bur26a  4403190.0\n",
       "4     steepestLS   bur26a  2726280.0"
      ]
     },
     "execution_count": 16,
     "metadata": {},
     "output_type": "execute_result"
    }
   ],
   "source": [
    "df.head()"
   ]
  },
  {
   "cell_type": "markdown",
   "metadata": {},
   "source": [
    "## Analysis"
   ]
  },
  {
   "cell_type": "code",
   "execution_count": 18,
   "metadata": {},
   "outputs": [
    {
     "data": {
      "text/plain": [
       "3308546.6666666665"
      ]
     },
     "execution_count": 18,
     "metadata": {},
     "output_type": "execute_result"
    }
   ],
   "source": [
    "df[(df.Algorithm == \"greedyLS\")][\"Runtime\"].mean()"
   ]
  },
  {
   "cell_type": "code",
   "execution_count": null,
   "metadata": {},
   "outputs": [],
   "source": []
  }
 ],
 "metadata": {
  "kernelspec": {
   "display_name": "Python 3",
   "language": "python",
   "name": "python3"
  },
  "language_info": {
   "codemirror_mode": {
    "name": "ipython",
    "version": 3
   },
   "file_extension": ".py",
   "mimetype": "text/x-python",
   "name": "python",
   "nbconvert_exporter": "python",
   "pygments_lexer": "ipython3",
   "version": "3.12.1"
  }
 },
 "nbformat": 4,
 "nbformat_minor": 2
}
