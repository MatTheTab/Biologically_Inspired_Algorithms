{
 "cells": [
  {
   "cell_type": "markdown",
   "metadata": {},
   "source": [
    "## Imports"
   ]
  },
  {
   "cell_type": "code",
   "execution_count": 2,
   "metadata": {},
   "outputs": [],
   "source": [
    "import re\n",
    "import os\n",
    "\n",
    "import numpy as np\n",
    "import pandas as pd\n",
    "\n",
    "import matplotlib.pyplot as plt"
   ]
  },
  {
   "cell_type": "markdown",
   "metadata": {},
   "source": [
    "## Utils"
   ]
  },
  {
   "cell_type": "code",
   "execution_count": null,
   "metadata": {},
   "outputs": [],
   "source": [
    "def parse_data(text):\n",
    "    pattern = re.compile(\n",
    "        r\"Algorithm:\\s*(?P<Algorithm>\\S+)\\s*\"\n",
    "        r\"Instance:\\s*(?P<Instance>\\S+)\\s*\"\n",
    "        r\"Runtime:\\s*(?P<Runtime>\\d+)\\s*nanoseconds\\s*\"\n",
    "        r\"Score:\\s*(?P<Score>\\d+)\\s*\"\n",
    "        r\"Number\\s*of\\s*Evaluations:\\s*(?P<Number_of_Evaluations>\\d+)\\s*\"\n",
    "        r\"Number\\s*of\\s*Performed\\s*Moves:\\s*(?P<Number_of_Performed_Moves>\\d+)\\s*\"\n",
    "        r\"Solution:\\s*(?P<Solution>[\\d\\s]+)\\s*\"\n",
    "        r\"Optimal\\s*Score:\\s*(?P<Optimal_Score>\\d+)\\s*\"\n",
    "        r\"Optimal\\s*Solution:\\s*(?P<Optimal_Solution>[\\d\\s]+)\"\n",
    "    )\n",
    "    \n",
    "    rows = []\n",
    "    for match in pattern.finditer(text):\n",
    "        row = match.groupdict()\n",
    "        rows.append(row)\n",
    "    \n",
    "    df = pd.DataFrame(rows)\n",
    "    \n",
    "    numerical_cols = ['Runtime', 'Score', 'Number_of_Evaluations', 'Number_of_Performed_Moves', 'Optimal_Score']\n",
    "    df[numerical_cols] = df[numerical_cols].apply(pd.to_numeric)\n",
    "    \n",
    "    return df"
   ]
  },
  {
   "cell_type": "markdown",
   "metadata": {},
   "source": [
    "## Read Data"
   ]
  },
  {
   "cell_type": "code",
   "execution_count": 5,
   "metadata": {},
   "outputs": [],
   "source": [
    "with open('new_results.txt', 'r') as file:\n",
    "    data = file.read()\n",
    "\n",
    "df = parse_data(data)"
   ]
  },
  {
   "cell_type": "code",
   "execution_count": 7,
   "metadata": {},
   "outputs": [
    {
     "data": {
      "application/vnd.microsoft.datawrangler.viewer.v0+json": {
       "columns": [
        {
         "name": "index",
         "rawType": "int64",
         "type": "integer"
        },
        {
         "name": "Algorithm",
         "rawType": "object",
         "type": "string"
        },
        {
         "name": "Instance",
         "rawType": "object",
         "type": "string"
        },
        {
         "name": "Runtime",
         "rawType": "int64",
         "type": "integer"
        },
        {
         "name": "Score",
         "rawType": "int64",
         "type": "integer"
        },
        {
         "name": "Number_of_Evaluations",
         "rawType": "int64",
         "type": "integer"
        },
        {
         "name": "Number_of_Performed_Moves",
         "rawType": "int64",
         "type": "integer"
        },
        {
         "name": "Solution",
         "rawType": "object",
         "type": "string"
        },
        {
         "name": "Optimal_Score",
         "rawType": "int64",
         "type": "integer"
        },
        {
         "name": "Optimal_Solution",
         "rawType": "object",
         "type": "string"
        }
       ],
       "conversionMethod": "pd.DataFrame",
       "ref": "b849add7-9004-49f0-8080-b5f544a0dc12",
       "rows": [
        [
         "0",
         "heuristic",
         "bur26a",
         "4253",
         "5841774",
         "1",
         "1",
         "16 14 10 25 9 21 12 24 18 1 20 6 13 17 11 0 3 15 7 8 5 2 19 23 22 4 \t",
         "5426670",
         "11 15 26 7 4 13 12 2 6 18 9 5 1 21 8 14 3 20 19 10 17 25 16 24 22 23 \n"
        ],
        [
         "1",
         "random",
         "bur26a",
         "418",
         "6006721",
         "1",
         "1",
         "7 11 5 21 14 22 1 4 16 3 13 2 9 23 25 8 6 15 20 18 12 10 0 19 24 17 \t",
         "5426670",
         "11 15 26 7 4 13 12 2 6 18 9 5 1 21 8 14 3 20 19 10 17 25 16 24 22 23 \n"
        ],
        [
         "2",
         "antiheuristic",
         "bur26a",
         "4593",
         "6013250",
         "1",
         "1",
         "1 10 14 21 3 25 11 20 23 16 24 13 6 22 12 7 9 2 0 4 19 15 5 18 17 8 \t",
         "5426670",
         "11 15 26 7 4 13 12 2 6 18 9 5 1 21 8 14 3 20 19 10 17 25 16 24 22 23 \n"
        ],
        [
         "3",
         "heuristic",
         "bur26a",
         "4197",
         "5841774",
         "1",
         "1",
         "16 14 10 25 9 21 12 24 18 1 20 6 13 17 11 0 3 15 7 8 5 2 19 23 22 4 \t",
         "5426670",
         "11 15 26 7 4 13 12 2 6 18 9 5 1 21 8 14 3 20 19 10 17 25 16 24 22 23 \n"
        ],
        [
         "4",
         "greedy_LS",
         "bur26a",
         "147376",
         "5436985",
         "39921",
         "78",
         "3 1 10 11 6 2 25 23 14 0 18 19 8 17 12 15 13 20 4 7 21 5 22 9 16 24 \t",
         "5426670",
         "11 15 26 7 4 13 12 2 6 18 9 5 1 21 8 14 3 20 19 10 17 25 16 24 22 23 \n"
        ]
       ],
       "shape": {
        "columns": 9,
        "rows": 5
       }
      },
      "text/html": [
       "<div>\n",
       "<style scoped>\n",
       "    .dataframe tbody tr th:only-of-type {\n",
       "        vertical-align: middle;\n",
       "    }\n",
       "\n",
       "    .dataframe tbody tr th {\n",
       "        vertical-align: top;\n",
       "    }\n",
       "\n",
       "    .dataframe thead th {\n",
       "        text-align: right;\n",
       "    }\n",
       "</style>\n",
       "<table border=\"1\" class=\"dataframe\">\n",
       "  <thead>\n",
       "    <tr style=\"text-align: right;\">\n",
       "      <th></th>\n",
       "      <th>Algorithm</th>\n",
       "      <th>Instance</th>\n",
       "      <th>Runtime</th>\n",
       "      <th>Score</th>\n",
       "      <th>Number_of_Evaluations</th>\n",
       "      <th>Number_of_Performed_Moves</th>\n",
       "      <th>Solution</th>\n",
       "      <th>Optimal_Score</th>\n",
       "      <th>Optimal_Solution</th>\n",
       "    </tr>\n",
       "  </thead>\n",
       "  <tbody>\n",
       "    <tr>\n",
       "      <th>0</th>\n",
       "      <td>heuristic</td>\n",
       "      <td>bur26a</td>\n",
       "      <td>4253</td>\n",
       "      <td>5841774</td>\n",
       "      <td>1</td>\n",
       "      <td>1</td>\n",
       "      <td>16 14 10 25 9 21 12 24 18 1 20 6 13 17 11 0 3 ...</td>\n",
       "      <td>5426670</td>\n",
       "      <td>11 15 26 7 4 13 12 2 6 18 9 5 1 21 8 14 3 20 1...</td>\n",
       "    </tr>\n",
       "    <tr>\n",
       "      <th>1</th>\n",
       "      <td>random</td>\n",
       "      <td>bur26a</td>\n",
       "      <td>418</td>\n",
       "      <td>6006721</td>\n",
       "      <td>1</td>\n",
       "      <td>1</td>\n",
       "      <td>7 11 5 21 14 22 1 4 16 3 13 2 9 23 25 8 6 15 2...</td>\n",
       "      <td>5426670</td>\n",
       "      <td>11 15 26 7 4 13 12 2 6 18 9 5 1 21 8 14 3 20 1...</td>\n",
       "    </tr>\n",
       "    <tr>\n",
       "      <th>2</th>\n",
       "      <td>antiheuristic</td>\n",
       "      <td>bur26a</td>\n",
       "      <td>4593</td>\n",
       "      <td>6013250</td>\n",
       "      <td>1</td>\n",
       "      <td>1</td>\n",
       "      <td>1 10 14 21 3 25 11 20 23 16 24 13 6 22 12 7 9 ...</td>\n",
       "      <td>5426670</td>\n",
       "      <td>11 15 26 7 4 13 12 2 6 18 9 5 1 21 8 14 3 20 1...</td>\n",
       "    </tr>\n",
       "    <tr>\n",
       "      <th>3</th>\n",
       "      <td>heuristic</td>\n",
       "      <td>bur26a</td>\n",
       "      <td>4197</td>\n",
       "      <td>5841774</td>\n",
       "      <td>1</td>\n",
       "      <td>1</td>\n",
       "      <td>16 14 10 25 9 21 12 24 18 1 20 6 13 17 11 0 3 ...</td>\n",
       "      <td>5426670</td>\n",
       "      <td>11 15 26 7 4 13 12 2 6 18 9 5 1 21 8 14 3 20 1...</td>\n",
       "    </tr>\n",
       "    <tr>\n",
       "      <th>4</th>\n",
       "      <td>greedy_LS</td>\n",
       "      <td>bur26a</td>\n",
       "      <td>147376</td>\n",
       "      <td>5436985</td>\n",
       "      <td>39921</td>\n",
       "      <td>78</td>\n",
       "      <td>3 1 10 11 6 2 25 23 14 0 18 19 8 17 12 15 13 2...</td>\n",
       "      <td>5426670</td>\n",
       "      <td>11 15 26 7 4 13 12 2 6 18 9 5 1 21 8 14 3 20 1...</td>\n",
       "    </tr>\n",
       "  </tbody>\n",
       "</table>\n",
       "</div>"
      ],
      "text/plain": [
       "       Algorithm Instance  Runtime    Score  Number_of_Evaluations  \\\n",
       "0      heuristic   bur26a     4253  5841774                      1   \n",
       "1         random   bur26a      418  6006721                      1   \n",
       "2  antiheuristic   bur26a     4593  6013250                      1   \n",
       "3      heuristic   bur26a     4197  5841774                      1   \n",
       "4      greedy_LS   bur26a   147376  5436985                  39921   \n",
       "\n",
       "   Number_of_Performed_Moves  \\\n",
       "0                          1   \n",
       "1                          1   \n",
       "2                          1   \n",
       "3                          1   \n",
       "4                         78   \n",
       "\n",
       "                                            Solution  Optimal_Score  \\\n",
       "0  16 14 10 25 9 21 12 24 18 1 20 6 13 17 11 0 3 ...        5426670   \n",
       "1  7 11 5 21 14 22 1 4 16 3 13 2 9 23 25 8 6 15 2...        5426670   \n",
       "2  1 10 14 21 3 25 11 20 23 16 24 13 6 22 12 7 9 ...        5426670   \n",
       "3  16 14 10 25 9 21 12 24 18 1 20 6 13 17 11 0 3 ...        5426670   \n",
       "4  3 1 10 11 6 2 25 23 14 0 18 19 8 17 12 15 13 2...        5426670   \n",
       "\n",
       "                                    Optimal_Solution  \n",
       "0  11 15 26 7 4 13 12 2 6 18 9 5 1 21 8 14 3 20 1...  \n",
       "1  11 15 26 7 4 13 12 2 6 18 9 5 1 21 8 14 3 20 1...  \n",
       "2  11 15 26 7 4 13 12 2 6 18 9 5 1 21 8 14 3 20 1...  \n",
       "3  11 15 26 7 4 13 12 2 6 18 9 5 1 21 8 14 3 20 1...  \n",
       "4  11 15 26 7 4 13 12 2 6 18 9 5 1 21 8 14 3 20 1...  "
      ]
     },
     "execution_count": 7,
     "metadata": {},
     "output_type": "execute_result"
    }
   ],
   "source": [
    "df.head()"
   ]
  },
  {
   "cell_type": "markdown",
   "metadata": {},
   "source": [
    "## Analysis"
   ]
  },
  {
   "cell_type": "code",
   "execution_count": null,
   "metadata": {},
   "outputs": [],
   "source": []
  }
 ],
 "metadata": {
  "kernelspec": {
   "display_name": "Python 3",
   "language": "python",
   "name": "python3"
  },
  "language_info": {
   "codemirror_mode": {
    "name": "ipython",
    "version": 3
   },
   "file_extension": ".py",
   "mimetype": "text/x-python",
   "name": "python",
   "nbconvert_exporter": "python",
   "pygments_lexer": "ipython3",
   "version": "3.12.1"
  }
 },
 "nbformat": 4,
 "nbformat_minor": 2
}
